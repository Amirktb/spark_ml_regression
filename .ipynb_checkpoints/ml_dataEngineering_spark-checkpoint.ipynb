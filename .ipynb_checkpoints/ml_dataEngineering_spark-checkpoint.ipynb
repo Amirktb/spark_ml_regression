{
 "cells": [
  {
   "cell_type": "code",
   "execution_count": 61,
   "id": "8be99b9d-abd2-4cd6-9668-435e8ccf5a4d",
   "metadata": {},
   "outputs": [],
   "source": [
    "import findspark\n",
    "\n",
    "findspark.init()"
   ]
  },
  {
   "cell_type": "markdown",
   "id": "3f16ba17-0123-491b-b18a-aeed9d9df5bd",
   "metadata": {},
   "source": [
    "# Spark program: linear regression model application "
   ]
  },
  {
   "cell_type": "code",
   "execution_count": 62,
   "id": "7012f3ef-3717-4a05-9ef4-56a711bcc00c",
   "metadata": {},
   "outputs": [],
   "source": [
    "from pyspark.sql import SparkSession\n",
    "\n",
    "# build the spark session\n",
    "spark = SparkSession.builder \\\n",
    "    .master(\"local\") \\\n",
    "    .appName(\"Linear Regression Model\") \\\n",
    "    .config(\"spark.executer.memory\", \"1gb\") \\\n",
    "    .getOrCreate()"
   ]
  },
  {
   "cell_type": "code",
   "execution_count": 63,
   "id": "d91609b8-a8dc-4c78-afd4-0a203d032efe",
   "metadata": {},
   "outputs": [],
   "source": [
    "sc = spark.sparkContext"
   ]
  },
  {
   "cell_type": "code",
   "execution_count": 64,
   "id": "bac5ff61-21c7-4540-b279-263cb529752e",
   "metadata": {},
   "outputs": [],
   "source": [
    "rdd = sc.textFile('/Users/amirkotobi/VSProjects/spark_ml_regression/dataset/CaliforniaHousing/cal_housing.data')\n",
    "header = sc.textFile('/Users/amirkotobi/VSProjects/spark_ml_regression/dataset/CaliforniaHousing/cal_housing.domain')"
   ]
  },
  {
   "cell_type": "code",
   "execution_count": 65,
   "id": "02272288-8a91-45f2-a3bf-c869c2fd242a",
   "metadata": {},
   "outputs": [
    {
     "data": {
      "text/plain": [
       "['longitude: continuous.',\n",
       " 'latitude: continuous.',\n",
       " 'housingMedianAge: continuous. ',\n",
       " 'totalRooms: continuous. ',\n",
       " 'totalBedrooms: continuous. ',\n",
       " 'population: continuous. ',\n",
       " 'households: continuous. ',\n",
       " 'medianIncome: continuous. ',\n",
       " 'medianHouseValue: continuous. ']"
      ]
     },
     "execution_count": 65,
     "metadata": {},
     "output_type": "execute_result"
    }
   ],
   "source": [
    "header.collect()"
   ]
  },
  {
   "cell_type": "code",
   "execution_count": 66,
   "id": "0e3c8fed-333a-400e-b5ef-d6539a7f72e9",
   "metadata": {},
   "outputs": [
    {
     "data": {
      "text/plain": [
       "['-122.230000,37.880000,41.000000,880.000000,129.000000,322.000000,126.000000,8.325200,452600.000000',\n",
       " '-122.220000,37.860000,21.000000,7099.000000,1106.000000,2401.000000,1138.000000,8.301400,358500.000000']"
      ]
     },
     "execution_count": 66,
     "metadata": {},
     "output_type": "execute_result"
    }
   ],
   "source": [
    "rdd.take(2)"
   ]
  },
  {
   "cell_type": "code",
   "execution_count": 67,
   "id": "c871cc82-c884-4e07-abf8-88806eb73930",
   "metadata": {},
   "outputs": [],
   "source": [
    "# split lines on commas\n",
    "rdd = rdd.map(lambda line: line.split(\",\"))"
   ]
  },
  {
   "cell_type": "code",
   "execution_count": 68,
   "id": "03554921-b714-4ad1-9895-87be6a0234ed",
   "metadata": {},
   "outputs": [
    {
     "data": {
      "text/plain": [
       "[['-122.230000',\n",
       "  '37.880000',\n",
       "  '41.000000',\n",
       "  '880.000000',\n",
       "  '129.000000',\n",
       "  '322.000000',\n",
       "  '126.000000',\n",
       "  '8.325200',\n",
       "  '452600.000000'],\n",
       " ['-122.220000',\n",
       "  '37.860000',\n",
       "  '21.000000',\n",
       "  '7099.000000',\n",
       "  '1106.000000',\n",
       "  '2401.000000',\n",
       "  '1138.000000',\n",
       "  '8.301400',\n",
       "  '358500.000000']]"
      ]
     },
     "execution_count": 68,
     "metadata": {},
     "output_type": "execute_result"
    }
   ],
   "source": [
    "rdd.take(2)"
   ]
  },
  {
   "cell_type": "markdown",
   "id": "22e93f07-0144-4db6-9b3e-de1057ef75e8",
   "metadata": {},
   "source": [
    "inspect the data "
   ]
  },
  {
   "cell_type": "code",
   "execution_count": 69,
   "id": "a63fbfbd-c7c9-4464-91d1-1ddbc25df6da",
   "metadata": {},
   "outputs": [
    {
     "data": {
      "text/plain": [
       "['-122.230000',\n",
       " '37.880000',\n",
       " '41.000000',\n",
       " '880.000000',\n",
       " '129.000000',\n",
       " '322.000000',\n",
       " '126.000000',\n",
       " '8.325200',\n",
       " '452600.000000']"
      ]
     },
     "execution_count": 69,
     "metadata": {},
     "output_type": "execute_result"
    }
   ],
   "source": [
    "rdd.first()"
   ]
  },
  {
   "cell_type": "code",
   "execution_count": 70,
   "id": "0b1ebf8c-072f-4824-9ce1-b73380e86f77",
   "metadata": {},
   "outputs": [
    {
     "data": {
      "text/plain": [
       "[['-124.350000',\n",
       "  '40.540000',\n",
       "  '52.000000',\n",
       "  '1820.000000',\n",
       "  '300.000000',\n",
       "  '806.000000',\n",
       "  '270.000000',\n",
       "  '3.014700',\n",
       "  '94600.000000'],\n",
       " ['-124.300000',\n",
       "  '41.840000',\n",
       "  '17.000000',\n",
       "  '2677.000000',\n",
       "  '531.000000',\n",
       "  '1244.000000',\n",
       "  '456.000000',\n",
       "  '3.031300',\n",
       "  '103600.000000']]"
      ]
     },
     "execution_count": 70,
     "metadata": {},
     "output_type": "execute_result"
    }
   ],
   "source": [
    "rdd.top(2)"
   ]
  },
  {
   "cell_type": "markdown",
   "id": "3ec60f7f-6689-4cd9-a3b3-2fad34905101",
   "metadata": {},
   "source": [
    "## Convert RDD to data frame"
   ]
  },
  {
   "cell_type": "code",
   "execution_count": 71,
   "id": "cebd09f8-d4a0-4076-bb6c-dab69450fcd4",
   "metadata": {},
   "outputs": [],
   "source": [
    "from pyspark.sql import Row"
   ]
  },
  {
   "cell_type": "code",
   "execution_count": 72,
   "id": "d4bf7e2c-8064-443a-8e69-c8a03f60ac5a",
   "metadata": {},
   "outputs": [],
   "source": [
    "df = rdd.map(lambda line: Row(longitude=line[0],\n",
    "                              latitude=line[1], \n",
    "                              housingMedianAge=line[2],\n",
    "                              totalRooms=line[3],\n",
    "                              totalBedRooms=line[4],\n",
    "                              population=line[5], \n",
    "                              households=line[6],\n",
    "                              medianIncome=line[7],\n",
    "                              medianHouseValue=line[8])).toDF()"
   ]
  },
  {
   "cell_type": "code",
   "execution_count": 73,
   "id": "ef4d7d1a-d839-46fc-afd6-92cb7b306e28",
   "metadata": {},
   "outputs": [
    {
     "name": "stderr",
     "output_type": "stream",
     "text": [
      "[Stage 31:>                                                         (0 + 1) / 1]\r"
     ]
    },
    {
     "name": "stdout",
     "output_type": "stream",
     "text": [
      "+-----------+---------+----------------+-----------+-------------+-----------+-----------+------------+----------------+\n",
      "|  longitude| latitude|housingMedianAge| totalRooms|totalBedRooms| population| households|medianIncome|medianHouseValue|\n",
      "+-----------+---------+----------------+-----------+-------------+-----------+-----------+------------+----------------+\n",
      "|-122.230000|37.880000|       41.000000| 880.000000|   129.000000| 322.000000| 126.000000|    8.325200|   452600.000000|\n",
      "|-122.220000|37.860000|       21.000000|7099.000000|  1106.000000|2401.000000|1138.000000|    8.301400|   358500.000000|\n",
      "|-122.240000|37.850000|       52.000000|1467.000000|   190.000000| 496.000000| 177.000000|    7.257400|   352100.000000|\n",
      "|-122.250000|37.850000|       52.000000|1274.000000|   235.000000| 558.000000| 219.000000|    5.643100|   341300.000000|\n",
      "|-122.250000|37.850000|       52.000000|1627.000000|   280.000000| 565.000000| 259.000000|    3.846200|   342200.000000|\n",
      "|-122.250000|37.850000|       52.000000| 919.000000|   213.000000| 413.000000| 193.000000|    4.036800|   269700.000000|\n",
      "|-122.250000|37.840000|       52.000000|2535.000000|   489.000000|1094.000000| 514.000000|    3.659100|   299200.000000|\n",
      "|-122.250000|37.840000|       52.000000|3104.000000|   687.000000|1157.000000| 647.000000|    3.120000|   241400.000000|\n",
      "|-122.260000|37.840000|       42.000000|2555.000000|   665.000000|1206.000000| 595.000000|    2.080400|   226700.000000|\n",
      "|-122.250000|37.840000|       52.000000|3549.000000|   707.000000|1551.000000| 714.000000|    3.691200|   261100.000000|\n",
      "|-122.260000|37.850000|       52.000000|2202.000000|   434.000000| 910.000000| 402.000000|    3.203100|   281500.000000|\n",
      "|-122.260000|37.850000|       52.000000|3503.000000|   752.000000|1504.000000| 734.000000|    3.270500|   241800.000000|\n",
      "|-122.260000|37.850000|       52.000000|2491.000000|   474.000000|1098.000000| 468.000000|    3.075000|   213500.000000|\n",
      "|-122.260000|37.840000|       52.000000| 696.000000|   191.000000| 345.000000| 174.000000|    2.673600|   191300.000000|\n",
      "|-122.260000|37.850000|       52.000000|2643.000000|   626.000000|1212.000000| 620.000000|    1.916700|   159200.000000|\n",
      "|-122.260000|37.850000|       50.000000|1120.000000|   283.000000| 697.000000| 264.000000|    2.125000|   140000.000000|\n",
      "|-122.270000|37.850000|       52.000000|1966.000000|   347.000000| 793.000000| 331.000000|    2.775000|   152500.000000|\n",
      "|-122.270000|37.850000|       52.000000|1228.000000|   293.000000| 648.000000| 303.000000|    2.120200|   155500.000000|\n",
      "|-122.260000|37.840000|       50.000000|2239.000000|   455.000000| 990.000000| 419.000000|    1.991100|   158700.000000|\n",
      "|-122.270000|37.840000|       52.000000|1503.000000|   298.000000| 690.000000| 275.000000|    2.603300|   162900.000000|\n",
      "+-----------+---------+----------------+-----------+-------------+-----------+-----------+------------+----------------+\n",
      "only showing top 20 rows\n",
      "\n"
     ]
    },
    {
     "name": "stderr",
     "output_type": "stream",
     "text": [
      "23/10/20 17:01:16 WARN PythonRunner: Detected deadlock while completing task 0.0 in stage 31 (TID 27): Attempting to kill Python Worker\n",
      "                                                                                \r"
     ]
    }
   ],
   "source": [
    "df.show()"
   ]
  },
  {
   "cell_type": "code",
   "execution_count": 74,
   "id": "c5cec817-16ea-4224-a1c8-de7dc4a0e06b",
   "metadata": {},
   "outputs": [
    {
     "name": "stderr",
     "output_type": "stream",
     "text": [
      "23/10/20 17:01:20 WARN PythonRunner: Detected deadlock while completing task 0.0 in stage 32 (TID 28): Attempting to kill Python Worker\n",
      "                                                                                \r"
     ]
    },
    {
     "data": {
      "text/plain": [
       "Row(longitude='-122.230000', latitude='37.880000', housingMedianAge='41.000000', totalRooms='880.000000', totalBedRooms='129.000000', population='322.000000', households='126.000000', medianIncome='8.325200', medianHouseValue='452600.000000')"
      ]
     },
     "execution_count": 74,
     "metadata": {},
     "output_type": "execute_result"
    }
   ],
   "source": [
    "df.head()"
   ]
  },
  {
   "cell_type": "code",
   "execution_count": 75,
   "id": "7489f55f-5748-4115-ac6c-cea47bee0f51",
   "metadata": {},
   "outputs": [
    {
     "data": {
      "text/plain": [
       "[('longitude', 'string'),\n",
       " ('latitude', 'string'),\n",
       " ('housingMedianAge', 'string'),\n",
       " ('totalRooms', 'string'),\n",
       " ('totalBedRooms', 'string'),\n",
       " ('population', 'string'),\n",
       " ('households', 'string'),\n",
       " ('medianIncome', 'string'),\n",
       " ('medianHouseValue', 'string')]"
      ]
     },
     "execution_count": 75,
     "metadata": {},
     "output_type": "execute_result"
    }
   ],
   "source": [
    "# print data types\n",
    "df.dtypes"
   ]
  },
  {
   "cell_type": "code",
   "execution_count": 76,
   "id": "b34a3d23-3656-4a97-814e-6868a76c2b36",
   "metadata": {},
   "outputs": [
    {
     "name": "stdout",
     "output_type": "stream",
     "text": [
      "root\n",
      " |-- longitude: string (nullable = true)\n",
      " |-- latitude: string (nullable = true)\n",
      " |-- housingMedianAge: string (nullable = true)\n",
      " |-- totalRooms: string (nullable = true)\n",
      " |-- totalBedRooms: string (nullable = true)\n",
      " |-- population: string (nullable = true)\n",
      " |-- households: string (nullable = true)\n",
      " |-- medianIncome: string (nullable = true)\n",
      " |-- medianHouseValue: string (nullable = true)\n",
      "\n"
     ]
    }
   ],
   "source": [
    "# print data types\n",
    "df.printSchema()"
   ]
  },
  {
   "cell_type": "markdown",
   "id": "622a8df3-b35d-4ae1-b4e6-5d7194239436",
   "metadata": {},
   "source": [
    "## Casting float data type to each column "
   ]
  },
  {
   "cell_type": "code",
   "execution_count": 77,
   "id": "0e91549b-d8d8-44f4-bb41-d3abbd23767a",
   "metadata": {},
   "outputs": [],
   "source": [
    "from pyspark.sql.types import *"
   ]
  },
  {
   "cell_type": "code",
   "execution_count": 78,
   "id": "e61aabf5-a849-4cb8-9a4e-8a826487ddf1",
   "metadata": {},
   "outputs": [],
   "source": [
    "df = df.withColumn(\"longitude\", df[\"longitude\"].cast(FloatType())) \\\n",
    "    .withColumn(\"latitude\", df[\"latitude\"].cast(FloatType())) \\\n",
    "    .withColumn(\"housingMedianAge\", df[\"housingMedianAge\"].cast(FloatType())) \\\n",
    "    .withColumn(\"totalRooms\", df[\"totalRooms\"].cast(FloatType())) \\\n",
    "    .withColumn(\"totalBedRooms\", df[\"totalBedRooms\"].cast(FloatType())) \\\n",
    "    .withColumn(\"population\", df[\"population\"].cast(FloatType())) \\\n",
    "    .withColumn(\"households\", df[\"households\"].cast(FloatType())) \\\n",
    "    .withColumn(\"medianIncome\", df[\"medianIncome\"].cast(FloatType())) \\\n",
    "    .withColumn(\"medianHouseValue\", df[\"medianHouseValue\"].cast(FloatType()))"
   ]
  },
  {
   "cell_type": "code",
   "execution_count": 79,
   "id": "3901fa3f-6d09-4dbc-9bd8-c1a9932674fa",
   "metadata": {},
   "outputs": [
    {
     "name": "stdout",
     "output_type": "stream",
     "text": [
      "root\n",
      " |-- longitude: float (nullable = true)\n",
      " |-- latitude: float (nullable = true)\n",
      " |-- housingMedianAge: float (nullable = true)\n",
      " |-- totalRooms: float (nullable = true)\n",
      " |-- totalBedRooms: float (nullable = true)\n",
      " |-- population: float (nullable = true)\n",
      " |-- households: float (nullable = true)\n",
      " |-- medianIncome: float (nullable = true)\n",
      " |-- medianHouseValue: float (nullable = true)\n",
      "\n"
     ]
    }
   ],
   "source": [
    "df.printSchema()"
   ]
  },
  {
   "cell_type": "code",
   "execution_count": 80,
   "id": "be869925-583b-4532-8f3c-ded429d2bc40",
   "metadata": {},
   "outputs": [
    {
     "data": {
      "text/plain": [
       "pyspark.sql.dataframe.DataFrame"
      ]
     },
     "execution_count": 80,
     "metadata": {},
     "output_type": "execute_result"
    }
   ],
   "source": [
    "type(df)"
   ]
  },
  {
   "cell_type": "code",
   "execution_count": 81,
   "id": "0aa27be7-d57d-40a3-924f-b22b4b35f306",
   "metadata": {},
   "outputs": [],
   "source": [
    "# writing a function to convert datatypes for all columns \n",
    "def convert_column_dtype(df, col_names, new_dtype):\n",
    "    for name in col_names:\n",
    "        df = df.withColumn(name, df[name].cast(new_dtype))\n",
    "    return df"
   ]
  },
  {
   "cell_type": "code",
   "execution_count": 82,
   "id": "9ba77643-260c-4267-a49f-76d9c2f9dea9",
   "metadata": {},
   "outputs": [
    {
     "data": {
      "text/plain": [
       "DataFrame[longitude: float, latitude: float, housingMedianAge: float, totalRooms: float, totalBedRooms: float, population: float, households: float, medianIncome: float, medianHouseValue: float]"
      ]
     },
     "execution_count": 82,
     "metadata": {},
     "output_type": "execute_result"
    }
   ],
   "source": [
    "columns = ['households', 'housingMedianAge', 'latitude', 'longitude', \n",
    "             'medianHouseValue', 'medianIncome', 'population', \n",
    "             'totalBedRooms', 'totalRooms']\n",
    "\n",
    "convert_column_dtype(df, columns, FloatType())"
   ]
  },
  {
   "cell_type": "code",
   "execution_count": 83,
   "id": "34976526-b505-4a13-805d-d4030cc36e81",
   "metadata": {},
   "outputs": [
    {
     "name": "stderr",
     "output_type": "stream",
     "text": [
      "[Stage 33:>                                                         (0 + 1) / 1]\r"
     ]
    },
    {
     "name": "stdout",
     "output_type": "stream",
     "text": [
      "+----------+----------+\n",
      "|population|totalRooms|\n",
      "+----------+----------+\n",
      "|     322.0|     880.0|\n",
      "|    2401.0|    7099.0|\n",
      "|     496.0|    1467.0|\n",
      "|     558.0|    1274.0|\n",
      "|     565.0|    1627.0|\n",
      "|     413.0|     919.0|\n",
      "|    1094.0|    2535.0|\n",
      "|    1157.0|    3104.0|\n",
      "|    1206.0|    2555.0|\n",
      "|    1551.0|    3549.0|\n",
      "|     910.0|    2202.0|\n",
      "|    1504.0|    3503.0|\n",
      "|    1098.0|    2491.0|\n",
      "|     345.0|     696.0|\n",
      "|    1212.0|    2643.0|\n",
      "|     697.0|    1120.0|\n",
      "|     793.0|    1966.0|\n",
      "|     648.0|    1228.0|\n",
      "|     990.0|    2239.0|\n",
      "|     690.0|    1503.0|\n",
      "+----------+----------+\n",
      "only showing top 20 rows\n",
      "\n"
     ]
    },
    {
     "name": "stderr",
     "output_type": "stream",
     "text": [
      "23/10/20 17:01:25 WARN PythonRunner: Detected deadlock while completing task 0.0 in stage 33 (TID 29): Attempting to kill Python Worker\n",
      "                                                                                \r"
     ]
    }
   ],
   "source": [
    "df.select('population', 'totalRooms').show(20)"
   ]
  },
  {
   "cell_type": "code",
   "execution_count": 84,
   "id": "c24a45d2-9223-4171-b661-a6e3f4e54940",
   "metadata": {},
   "outputs": [
    {
     "name": "stdout",
     "output_type": "stream",
     "text": [
      "+----------------+-----+\n",
      "|housingMedianAge|count|\n",
      "+----------------+-----+\n",
      "|            52.0| 1273|\n",
      "|            51.0|   48|\n",
      "|            50.0|  136|\n",
      "|            49.0|  134|\n",
      "|            48.0|  177|\n",
      "|            47.0|  198|\n",
      "|            46.0|  245|\n",
      "|            45.0|  294|\n",
      "|            44.0|  356|\n",
      "|            43.0|  353|\n",
      "|            42.0|  368|\n",
      "|            41.0|  296|\n",
      "|            40.0|  304|\n",
      "|            39.0|  369|\n",
      "|            38.0|  394|\n",
      "|            37.0|  537|\n",
      "|            36.0|  862|\n",
      "|            35.0|  824|\n",
      "|            34.0|  689|\n",
      "|            33.0|  615|\n",
      "+----------------+-----+\n",
      "only showing top 20 rows\n",
      "\n"
     ]
    }
   ],
   "source": [
    "# sql query on housingMedianAge variable\n",
    "df.groupby(\"housingMedianAge\").count() \\\n",
    "    .sort(\"housingMedianAge\", ascending=False).show()"
   ]
  },
  {
   "cell_type": "code",
   "execution_count": 85,
   "id": "507794e1-74a2-4565-b901-3fab3dcd7368",
   "metadata": {},
   "outputs": [
    {
     "name": "stdout",
     "output_type": "stream",
     "text": [
      "+-------+-------------------+-----------------+------------------+------------------+-----------------+------------------+-----------------+------------------+------------------+\n",
      "|summary|          longitude|         latitude|  housingMedianAge|        totalRooms|    totalBedRooms|        population|       households|      medianIncome|  medianHouseValue|\n",
      "+-------+-------------------+-----------------+------------------+------------------+-----------------+------------------+-----------------+------------------+------------------+\n",
      "|  count|              20640|            20640|             20640|             20640|            20640|             20640|            20640|             20640|             20640|\n",
      "|   mean|-119.56970444871473|35.63186143109965|28.639486434108527|2635.7630813953488|537.8980135658915|1425.4767441860465|499.5396802325581|3.8706710030346416|206855.81690891474|\n",
      "| stddev|  2.003531742932898|2.135952380602968| 12.58555761211163|2181.6152515827944| 421.247905943133|  1132.46212176534|382.3297528316098|1.8998217183639696|115395.61587441359|\n",
      "|    min|            -124.35|            32.54|               1.0|               2.0|              1.0|               3.0|              1.0|            0.4999|           14999.0|\n",
      "|    max|            -114.31|            41.95|              52.0|           39320.0|           6445.0|           35682.0|           6082.0|           15.0001|          500001.0|\n",
      "+-------+-------------------+-----------------+------------------+------------------+-----------------+------------------+-----------------+------------------+------------------+\n",
      "\n"
     ]
    }
   ],
   "source": [
    "# summary of the data\n",
    "df.describe().show()"
   ]
  },
  {
   "cell_type": "markdown",
   "id": "87460cd7-c60d-4a75-baff-46dd67440165",
   "metadata": {},
   "source": [
    "Due to the big range of data for each variable, normalisation is needed "
   ]
  },
  {
   "cell_type": "markdown",
   "id": "db8d73a0-f601-48f5-afbf-242d3d1d8379",
   "metadata": {},
   "source": [
    "## processing the target values"
   ]
  },
  {
   "cell_type": "code",
   "execution_count": 86,
   "id": "b988401f-dc9c-4d4b-876b-d405a461a207",
   "metadata": {},
   "outputs": [],
   "source": [
    "from pyspark.sql.functions import *"
   ]
  },
  {
   "cell_type": "code",
   "execution_count": 87,
   "id": "fe702212-dde2-4580-a040-28696fc3c4f8",
   "metadata": {},
   "outputs": [],
   "source": [
    "df = df.withColumn(\"medianHouseValue\", col(\"medianHouseValue\") / 100000)"
   ]
  },
  {
   "cell_type": "code",
   "execution_count": 88,
   "id": "0c859883-0d8b-4142-9635-d0403299a1b9",
   "metadata": {},
   "outputs": [
    {
     "data": {
      "text/plain": [
       "[Row(longitude=-122.2300033569336, latitude=37.880001068115234, housingMedianAge=41.0, totalRooms=880.0, totalBedRooms=129.0, population=322.0, households=126.0, medianIncome=8.325200080871582, medianHouseValue=4.526),\n",
       " Row(longitude=-122.22000122070312, latitude=37.86000061035156, housingMedianAge=21.0, totalRooms=7099.0, totalBedRooms=1106.0, population=2401.0, households=1138.0, medianIncome=8.301400184631348, medianHouseValue=3.585)]"
      ]
     },
     "execution_count": 88,
     "metadata": {},
     "output_type": "execute_result"
    }
   ],
   "source": [
    "df.take(2)"
   ]
  },
  {
   "cell_type": "markdown",
   "id": "a8431e3c-c4c5-423b-8659-a8df8c1a14fd",
   "metadata": {},
   "source": [
    "## Feature engineering "
   ]
  },
  {
   "cell_type": "markdown",
   "id": "0d9a931e-666c-44dd-a222-3cd1713894e1",
   "metadata": {},
   "source": [
    "add new features to the data\n",
    "\n",
    "- rooms per household\n",
    "- population per household\n",
    "- bedrooms per room"
   ]
  },
  {
   "cell_type": "code",
   "execution_count": 89,
   "id": "0048d653-811c-4114-a327-19d83087c61c",
   "metadata": {},
   "outputs": [],
   "source": [
    "df = df.withColumn(\"roomsPerHousehold\", col(\"totalRooms\") / col(\"households\")) \\\n",
    "    .withColumn(\"popPerHousehold\", col(\"population\") / col(\"households\")) \\\n",
    "    .withColumn(\"bedroomsPerRoom\", col(\"totalBedRooms\") / col(\"totalRooms\"))"
   ]
  },
  {
   "cell_type": "code",
   "execution_count": 90,
   "id": "a15c13c1-299b-496b-af80-fd46045b6b35",
   "metadata": {},
   "outputs": [
    {
     "name": "stderr",
     "output_type": "stream",
     "text": [
      "[Stage 41:>                                                         (0 + 1) / 1]\r"
     ]
    },
    {
     "name": "stdout",
     "output_type": "stream",
     "text": [
      "+---------+--------+----------------+----------+-------------+----------+----------+------------+----------------+------------------+------------------+-------------------+\n",
      "|longitude|latitude|housingMedianAge|totalRooms|totalBedRooms|population|households|medianIncome|medianHouseValue| roomsPerHousehold|   popPerHousehold|    bedroomsPerRoom|\n",
      "+---------+--------+----------------+----------+-------------+----------+----------+------------+----------------+------------------+------------------+-------------------+\n",
      "|  -122.23|   37.88|            41.0|     880.0|        129.0|     322.0|     126.0|      8.3252|           4.526| 6.984126984126984|2.5555555555555554|0.14659090909090908|\n",
      "|  -122.22|   37.86|            21.0|    7099.0|       1106.0|    2401.0|    1138.0|      8.3014|           3.585| 6.238137082601054| 2.109841827768014|0.15579659106916466|\n",
      "|  -122.24|   37.85|            52.0|    1467.0|        190.0|     496.0|     177.0|      7.2574|           3.521| 8.288135593220339|2.8022598870056497|0.12951601908657123|\n",
      "|  -122.25|   37.85|            52.0|    1274.0|        235.0|     558.0|     219.0|      5.6431|           3.413|5.8173515981735155| 2.547945205479452|0.18445839874411302|\n",
      "|  -122.25|   37.85|            52.0|    1627.0|        280.0|     565.0|     259.0|      3.8462|           3.422| 6.281853281853282|2.1814671814671813| 0.1720958819913952|\n",
      "|  -122.25|   37.85|            52.0|     919.0|        213.0|     413.0|     193.0|      4.0368|           2.697| 4.761658031088083| 2.139896373056995|0.23177366702937977|\n",
      "|  -122.25|   37.84|            52.0|    2535.0|        489.0|    1094.0|     514.0|      3.6591|           2.992|4.9319066147859925|2.1284046692607004|0.19289940828402366|\n",
      "|  -122.25|   37.84|            52.0|    3104.0|        687.0|    1157.0|     647.0|        3.12|           2.414| 4.797527047913447|1.7882534775888717|0.22132731958762886|\n",
      "|  -122.26|   37.84|            42.0|    2555.0|        665.0|    1206.0|     595.0|      2.0804|           2.267| 4.294117647058823| 2.026890756302521| 0.2602739726027397|\n",
      "|  -122.25|   37.84|            52.0|    3549.0|        707.0|    1551.0|     714.0|      3.6912|           2.611| 4.970588235294118| 2.172268907563025| 0.1992110453648915|\n",
      "+---------+--------+----------------+----------+-------------+----------+----------+------------+----------------+------------------+------------------+-------------------+\n",
      "only showing top 10 rows\n",
      "\n"
     ]
    },
    {
     "name": "stderr",
     "output_type": "stream",
     "text": [
      "23/10/20 17:01:29 WARN PythonRunner: Detected deadlock while completing task 0.0 in stage 41 (TID 35): Attempting to kill Python Worker\n",
      "                                                                                \r"
     ]
    }
   ],
   "source": [
    "df.show(10)"
   ]
  },
  {
   "cell_type": "markdown",
   "id": "5b96985d-3efb-4f31-af83-b5cb921e35c8",
   "metadata": {},
   "source": [
    "reordering the columns for later standardizatiom"
   ]
  },
  {
   "cell_type": "code",
   "execution_count": 91,
   "id": "96d4f841-6563-4533-9778-93aadf9f516c",
   "metadata": {},
   "outputs": [],
   "source": [
    "df = df.select(\n",
    "              \"medianHouseValue\", \n",
    "              \"totalBedRooms\", \n",
    "              \"population\", \n",
    "              \"households\", \n",
    "              \"medianIncome\", \n",
    "              \"roomsPerHousehold\", \n",
    "              \"popPerHousehold\", \n",
    "              \"bedroomsPerRoom\"\n",
    ")"
   ]
  },
  {
   "cell_type": "code",
   "execution_count": 92,
   "id": "6833e3fa-000a-43a7-bc0c-edc3937c9e45",
   "metadata": {},
   "outputs": [
    {
     "name": "stderr",
     "output_type": "stream",
     "text": [
      "23/10/20 17:01:33 WARN PythonRunner: Detected deadlock while completing task 0.0 in stage 42 (TID 36): Attempting to kill Python Worker\n",
      "                                                                                \r"
     ]
    },
    {
     "data": {
      "text/plain": [
       "Row(medianHouseValue=4.526, totalBedRooms=129.0, population=322.0, households=126.0, medianIncome=8.325200080871582, roomsPerHousehold=6.984126984126984, popPerHousehold=2.5555555555555554, bedroomsPerRoom=0.14659090909090908)"
      ]
     },
     "execution_count": 92,
     "metadata": {},
     "output_type": "execute_result"
    }
   ],
   "source": [
    "df.first()"
   ]
  },
  {
   "cell_type": "markdown",
   "id": "e0bbc710-64c5-4144-95a0-3bd44ebc5cff",
   "metadata": {},
   "source": [
    "# Standardization"
   ]
  },
  {
   "cell_type": "markdown",
   "id": "6ae34a27-abe7-499e-b2a3-29282f1bc69d",
   "metadata": {},
   "source": [
    "seperate the target variable from the rest "
   ]
  },
  {
   "cell_type": "code",
   "execution_count": 93,
   "id": "770ae186-c158-46f8-9d03-189b93016479",
   "metadata": {},
   "outputs": [],
   "source": [
    "from pyspark.ml.linalg import DenseVector"
   ]
  },
  {
   "cell_type": "code",
   "execution_count": 95,
   "id": "56ce2548-bbd9-4f2d-907a-043d25c7b660",
   "metadata": {},
   "outputs": [],
   "source": [
    "input_data = df.rdd.map(lambda x: (x[0], DenseVector(x[1:])))\n",
    "df = spark.createDataFrame(input_data, [\"label\", \"features\"])"
   ]
  },
  {
   "cell_type": "code",
   "execution_count": 96,
   "id": "60614b2c-1bce-41d2-934c-0a6ed23014eb",
   "metadata": {},
   "outputs": [
    {
     "name": "stdout",
     "output_type": "stream",
     "text": [
      "+-----+--------------------+\n",
      "|label|            features|\n",
      "+-----+--------------------+\n",
      "|4.526|[129.0,322.0,126....|\n",
      "|3.585|[1106.0,2401.0,11...|\n",
      "|3.521|[190.0,496.0,177....|\n",
      "|3.413|[235.0,558.0,219....|\n",
      "|3.422|[280.0,565.0,259....|\n",
      "|2.697|[213.0,413.0,193....|\n",
      "|2.992|[489.0,1094.0,514...|\n",
      "|2.414|[687.0,1157.0,647...|\n",
      "|2.267|[665.0,1206.0,595...|\n",
      "|2.611|[707.0,1551.0,714...|\n",
      "+-----+--------------------+\n",
      "only showing top 10 rows\n",
      "\n"
     ]
    }
   ],
   "source": [
    "df.show(10)"
   ]
  },
  {
   "cell_type": "code",
   "execution_count": null,
   "id": "bddca16c-34c0-4eac-9108-1212f2248c0b",
   "metadata": {},
   "outputs": [],
   "source": []
  },
  {
   "cell_type": "code",
   "execution_count": null,
   "id": "5ea5e33b-d965-45c9-8c0e-9db08a51cd54",
   "metadata": {},
   "outputs": [],
   "source": []
  },
  {
   "cell_type": "code",
   "execution_count": null,
   "id": "eb8d62f5-efb2-4ed3-90e2-4da347e1dc7d",
   "metadata": {},
   "outputs": [],
   "source": []
  },
  {
   "cell_type": "code",
   "execution_count": null,
   "id": "3b78d3e8-6bcb-4693-9529-476a922e5a03",
   "metadata": {},
   "outputs": [],
   "source": []
  }
 ],
 "metadata": {
  "kernelspec": {
   "display_name": "VSvenv",
   "language": "python",
   "name": "vsvenv"
  },
  "language_info": {
   "codemirror_mode": {
    "name": "ipython",
    "version": 3
   },
   "file_extension": ".py",
   "mimetype": "text/x-python",
   "name": "python",
   "nbconvert_exporter": "python",
   "pygments_lexer": "ipython3",
   "version": "3.9.6"
  }
 },
 "nbformat": 4,
 "nbformat_minor": 5
}
